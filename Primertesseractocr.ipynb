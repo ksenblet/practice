{
 "cells": [
  {
   "cell_type": "code",
   "execution_count": 7,
   "id": "6fb5aac4-1840-402e-92ca-354cbcd4b863",
   "metadata": {},
   "outputs": [
    {
     "name": "stdout",
     "output_type": "stream",
     "text": [
      "Requirement already satisfied: pytesseract in c:\\users\\kseni\\pycharmprojects\\pythonproject\\.venv\\lib\\site-packages (0.3.13)\n",
      "Requirement already satisfied: pillow in c:\\users\\kseni\\pycharmprojects\\pythonproject\\.venv\\lib\\site-packages (11.2.1)\n",
      "Requirement already satisfied: packaging>=21.3 in c:\\users\\kseni\\pycharmprojects\\pythonproject\\.venv\\lib\\site-packages (from pytesseract) (25.0)\n"
     ]
    }
   ],
   "source": [
    "!pip install pytesseract pillow"
   ]
  },
  {
   "cell_type": "code",
   "execution_count": 2,
   "id": "9e750727-82bc-4aa4-89e0-5b58c08a7540",
   "metadata": {},
   "outputs": [],
   "source": [
    "from PIL import Image\n",
    "import pytesseract\n",
    "import cv2\n",
    "import numpy as np"
   ]
  },
  {
   "cell_type": "code",
   "execution_count": 3,
   "id": "25240d67-fc7a-4f78-ac8d-42d593b70506",
   "metadata": {},
   "outputs": [
    {
     "name": "stdout",
     "output_type": "stream",
     "text": [
      "Распознанный текст:\n",
      "297 4) Бебдкомо  Кове побоныл ее -рлк >\n",
      "Бомба\n",
      "\n",
      "рт ук “ олово, поЗииреня 8 9 фм\n",
      "пиров ил ыы. А 9 оьи 062 ор\n",
      "оне О Л\n",
      "Колм ФИ Идеал.\n",
      "\n",
      "се блю орел туды\n",
      "\n",
      "ре) 4 Фичи уе Деллома иле бы,\n",
      "А пом ме 9 фромалони Ионы зы\n",
      "емо кие «в. @и^ Поло бол 8,\n",
      "и, Хо ие, 90.\n",
      "\n",
      "Коко, Колор  Фиуромоньь бл не, 6.\n",
      "о АЯ А по ри\n",
      "\n"
     ]
    }
   ],
   "source": [
    "pytesseract.pytesseract.tesseract_cmd = r'C:\\Users\\kseni\\TesseractOCR\\tesseract.exe'\n",
    "\n",
    "image_path = r\"C:\\Users\\kseni\\PycharmProjects\\pythonProject\\PraktikaDay2\\probaEasyOCRPicture.png\"\n",
    "image = cv2.imread(image_path)\n",
    "\n",
    "\n",
    "gray = cv2.cvtColor(image, cv2.COLOR_BGR2GRAY)\n",
    "thresh = cv2.threshold(gray, 0, 255, cv2.THRESH_BINARY_INV + cv2.THRESH_OTSU)[1]\n",
    "\n",
    "cv2.imwrite('processed.jpg', thresh)\n",
    "\n",
    "text = pytesseract.image_to_string(thresh, lang='rus', config='--psm 6 --oem 3')\n",
    "print(\"Распознанный текст:\")\n",
    "print(text)"
   ]
  },
  {
   "cell_type": "code",
   "execution_count": null,
   "id": "f9917f90-41ac-45c0-8f52-252f0a08a8aa",
   "metadata": {},
   "outputs": [],
   "source": []
  }
 ],
 "metadata": {
  "kernelspec": {
   "display_name": "Python 3 (ipykernel)",
   "language": "python",
   "name": "python3"
  },
  "language_info": {
   "codemirror_mode": {
    "name": "ipython",
    "version": 3
   },
   "file_extension": ".py",
   "mimetype": "text/x-python",
   "name": "python",
   "nbconvert_exporter": "python",
   "pygments_lexer": "ipython3",
   "version": "3.12.1"
  }
 },
 "nbformat": 4,
 "nbformat_minor": 5
}
