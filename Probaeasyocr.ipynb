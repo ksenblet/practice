{
 "cells": [
  {
   "cell_type": "code",
   "execution_count": 7,
   "id": "073189ab-9c12-4412-81fb-24d5c174785b",
   "metadata": {},
   "outputs": [
    {
     "name": "stdout",
     "output_type": "stream",
     "text": [
      "Requirement already satisfied: easyocr in c:\\users\\kseni\\pycharmprojects\\pythonproject\\.venv\\lib\\site-packages (1.7.2)\n",
      "Requirement already satisfied: torch in c:\\users\\kseni\\pycharmprojects\\pythonproject\\.venv\\lib\\site-packages (from easyocr) (2.7.1)\n",
      "Requirement already satisfied: torchvision>=0.5 in c:\\users\\kseni\\pycharmprojects\\pythonproject\\.venv\\lib\\site-packages (from easyocr) (0.22.1)\n",
      "Requirement already satisfied: opencv-python-headless in c:\\users\\kseni\\pycharmprojects\\pythonproject\\.venv\\lib\\site-packages (from easyocr) (4.11.0.86)\n",
      "Requirement already satisfied: scipy in c:\\users\\kseni\\pycharmprojects\\pythonproject\\.venv\\lib\\site-packages (from easyocr) (1.16.0)\n",
      "Requirement already satisfied: numpy in c:\\users\\kseni\\pycharmprojects\\pythonproject\\.venv\\lib\\site-packages (from easyocr) (1.26.4)\n",
      "Requirement already satisfied: Pillow in c:\\users\\kseni\\pycharmprojects\\pythonproject\\.venv\\lib\\site-packages (from easyocr) (11.2.1)\n",
      "Requirement already satisfied: scikit-image in c:\\users\\kseni\\pycharmprojects\\pythonproject\\.venv\\lib\\site-packages (from easyocr) (0.25.2)\n",
      "Requirement already satisfied: python-bidi in c:\\users\\kseni\\pycharmprojects\\pythonproject\\.venv\\lib\\site-packages (from easyocr) (0.6.6)\n",
      "Requirement already satisfied: PyYAML in c:\\users\\kseni\\pycharmprojects\\pythonproject\\.venv\\lib\\site-packages (from easyocr) (6.0.2)\n",
      "Requirement already satisfied: Shapely in c:\\users\\kseni\\pycharmprojects\\pythonproject\\.venv\\lib\\site-packages (from easyocr) (2.1.1)\n",
      "Requirement already satisfied: pyclipper in c:\\users\\kseni\\pycharmprojects\\pythonproject\\.venv\\lib\\site-packages (from easyocr) (1.3.0.post6)\n",
      "Requirement already satisfied: ninja in c:\\users\\kseni\\pycharmprojects\\pythonproject\\.venv\\lib\\site-packages (from easyocr) (1.11.1.4)\n",
      "Requirement already satisfied: filelock in c:\\users\\kseni\\pycharmprojects\\pythonproject\\.venv\\lib\\site-packages (from torch->easyocr) (3.18.0)\n",
      "Requirement already satisfied: typing-extensions>=4.10.0 in c:\\users\\kseni\\pycharmprojects\\pythonproject\\.venv\\lib\\site-packages (from torch->easyocr) (4.14.0)\n",
      "Requirement already satisfied: sympy>=1.13.3 in c:\\users\\kseni\\pycharmprojects\\pythonproject\\.venv\\lib\\site-packages (from torch->easyocr) (1.14.0)\n",
      "Requirement already satisfied: networkx in c:\\users\\kseni\\pycharmprojects\\pythonproject\\.venv\\lib\\site-packages (from torch->easyocr) (3.4.2)\n",
      "Requirement already satisfied: jinja2 in c:\\users\\kseni\\pycharmprojects\\pythonproject\\.venv\\lib\\site-packages (from torch->easyocr) (3.1.6)\n",
      "Requirement already satisfied: fsspec in c:\\users\\kseni\\pycharmprojects\\pythonproject\\.venv\\lib\\site-packages (from torch->easyocr) (2025.5.1)\n",
      "Requirement already satisfied: setuptools in c:\\users\\kseni\\pycharmprojects\\pythonproject\\.venv\\lib\\site-packages (from torch->easyocr) (80.9.0)\n",
      "Requirement already satisfied: mpmath<1.4,>=1.1.0 in c:\\users\\kseni\\pycharmprojects\\pythonproject\\.venv\\lib\\site-packages (from sympy>=1.13.3->torch->easyocr) (1.3.0)\n",
      "Requirement already satisfied: MarkupSafe>=2.0 in c:\\users\\kseni\\pycharmprojects\\pythonproject\\.venv\\lib\\site-packages (from jinja2->torch->easyocr) (3.0.2)\n",
      "Requirement already satisfied: imageio!=2.35.0,>=2.33 in c:\\users\\kseni\\pycharmprojects\\pythonproject\\.venv\\lib\\site-packages (from scikit-image->easyocr) (2.37.0)\n",
      "Requirement already satisfied: tifffile>=2022.8.12 in c:\\users\\kseni\\pycharmprojects\\pythonproject\\.venv\\lib\\site-packages (from scikit-image->easyocr) (2025.6.11)\n",
      "Requirement already satisfied: packaging>=21 in c:\\users\\kseni\\pycharmprojects\\pythonproject\\.venv\\lib\\site-packages (from scikit-image->easyocr) (25.0)\n",
      "Requirement already satisfied: lazy-loader>=0.4 in c:\\users\\kseni\\pycharmprojects\\pythonproject\\.venv\\lib\\site-packages (from scikit-image->easyocr) (0.4)\n"
     ]
    }
   ],
   "source": [
    "!pip install easyocr"
   ]
  },
  {
   "cell_type": "code",
   "execution_count": 8,
   "id": "6f35fa37-0e59-47ef-8ecc-927867599023",
   "metadata": {},
   "outputs": [],
   "source": [
    "import torch\n",
    "import torch.nn as nn\n",
    "import torch.nn.functional as F\n",
    "from torchvision import datasets, transforms\n",
    "import easyocr\n",
    "import cv2"
   ]
  },
  {
   "cell_type": "code",
   "execution_count": 9,
   "id": "e2e8b10c-a7f1-4280-8dc3-316ed6bf8928",
   "metadata": {},
   "outputs": [
    {
     "name": "stderr",
     "output_type": "stream",
     "text": [
      "Neither CUDA nor MPS are available - defaulting to CPU. Note: This module is much faster with a GPU.\n"
     ]
    }
   ],
   "source": [
    "reader = easyocr.Reader(['ru'])"
   ]
  },
  {
   "cell_type": "code",
   "execution_count": 10,
   "id": "b91d6c02-5010-4606-8146-875d0c9d8819",
   "metadata": {},
   "outputs": [
    {
     "name": "stdout",
     "output_type": "stream",
     "text": [
      "Распознанный текст:\n",
      "['[5) {) 186~ @тл % о?_ %Я хож@ ч8 -22 0л.2 [%&@ -4 [чя &их 9/ \\'ж{~\\' &0_   {жыэ и? #мжо_ ( ~~& &  % &  (ыэ4^ \\'ыэ Зои& 49) м~& ц; 0 4 [л [ (9 && @, (<_ \\' И (УС2 9ич } я61~ С (@1 И1 0л2 @Ы&_.& & +( 8 ~о [. 9И иХ и Ф */ 0, \\'И@ 10 (мю (@ ( @ .{л  оц (Ч{\" (ове ем [& ~ы [С~-и2 /Ч_иЗы-& { \"  Жя 18 &8у2 {чч % \\'7 Чс~ч { 92 445 ~2 !~20 С4 Ж&о-и&> иф{ 96 ) 4ь [чжяс \\'Аячи2 , {(  & Фиэ Си ( @Д^ /ы< {И(% &И^ < #А~  *2хь~8 (к [  \\'^х\" {~э;2 И ч ЪеЧъым< {ьчы \\'л2 @~ж~*<м [ 2н> $ ф   %   Ж8 {м жж:: ф %2 4~хчычк _ ,уо_я Д {% м \"(мо\\' Аолы  18 [~ 0оФ )Ц> \\'(~ & &  1[мчул 0 3х мс о <ир 0) СЗу% (_\\'@-[~в 9 Ж{& ф& Ъм/ Къл #(ои8+2 9м~@ о   ~90 1 Ф(с+ощ_ ( 0( \\' 4х, ^ ~\\'@&ищ4 4 Ж 0 >@Я \\'Ъ ч\"и']\n"
     ]
    }
   ],
   "source": [
    "image_path = r\"C:\\Users\\kseni\\PycharmProjects\\pythonProject\\PraktikaDay2\\probaEasyOCRPicture.png\"\n",
    "image = cv2.imread(image_path)\n",
    "result = reader.readtext(image, detail=0, paragraph=True)\n",
    "print(\"Распознанный текст:\")\n",
    "print(result)\n"
   ]
  },
  {
   "cell_type": "code",
   "execution_count": null,
   "id": "a7febc16-5dc8-461d-abf5-477709148598",
   "metadata": {},
   "outputs": [],
   "source": []
  }
 ],
 "metadata": {
  "kernelspec": {
   "display_name": "Python 3 (ipykernel)",
   "language": "python",
   "name": "python3"
  },
  "language_info": {
   "codemirror_mode": {
    "name": "ipython",
    "version": 3
   },
   "file_extension": ".py",
   "mimetype": "text/x-python",
   "name": "python",
   "nbconvert_exporter": "python",
   "pygments_lexer": "ipython3",
   "version": "3.12.1"
  }
 },
 "nbformat": 4,
 "nbformat_minor": 5
}
